{
  "nbformat": 4,
  "nbformat_minor": 0,
  "metadata": {
    "colab": {
      "name": "Ohme et al. reproduction of results.ipynb",
      "provenance": [],
      "authorship_tag": "ABX9TyPivhmnKrmb4SWgeZEF/SPo",
      "include_colab_link": true
    },
    "kernelspec": {
      "name": "python3",
      "display_name": "Python 3"
    },
    "language_info": {
      "name": "python"
    }
  },
  "cells": [
    {
      "cell_type": "markdown",
      "metadata": {
        "id": "view-in-github",
        "colab_type": "text"
      },
      "source": [
        "<a href=\"https://colab.research.google.com/github/MIBRivera/PCA-negative-PN/blob/main/Ohme_et_al_reproduction_of_results.ipynb\" target=\"_parent\"><img src=\"https://colab.research.google.com/assets/colab-badge.svg\" alt=\"Open In Colab\"/></a>"
      ]
    },
    {
      "cell_type": "code",
      "metadata": {
        "id": "y_WqKndbRVQv",
        "colab": {
          "base_uri": "https://localhost:8080/"
        },
        "outputId": "f57dba8c-432b-456d-f7bd-9c9a73d4e243"
      },
      "source": [
        "# load pycbc and waveform plugin for modifying the waveforms\n",
        "import sys\n",
        "!{sys.executable} -m pip install pycbc ligo-common lalsuite --no-cache-dir\n",
        "!{sys.executable} -m pip install git+https://github.com/gwastro/example-waveform-plugin\n",
        "!{sys.executable} -m pip install gwent gwinc --no-cache-dir\n",
        "\n",
        "#preliminaries\n",
        "import pycbc\n",
        "import numpy as np\n",
        "import matplotlib.pyplot as plt\n",
        "from cycler import cycler\n",
        "from scipy.constants import golden_ratio\n",
        "from scipy.interpolate import interp1d\n",
        "\n",
        "import astropy.constants as const\n",
        "import astropy.units as u\n",
        "\n",
        "import gwent\n",
        "import gwent.detector as detector\n",
        "import gwent.binary as binary\n",
        "\n",
        "\n",
        "#Turn off warnings for tutorial\n",
        "import warnings\n",
        "warnings.filterwarnings('ignore')\n",
        "\n",
        "%matplotlib inline\n",
        "\n",
        "plt.style.use('seaborn-paper')\n"
      ],
      "execution_count": 1,
      "outputs": [
        {
          "output_type": "stream",
          "name": "stdout",
          "text": [
            "Requirement already satisfied: pycbc in /usr/local/lib/python3.7/dist-packages (1.18.3)\n",
            "Requirement already satisfied: ligo-common in /usr/local/lib/python3.7/dist-packages (1.0.3)\n",
            "Requirement already satisfied: lalsuite in /usr/local/lib/python3.7/dist-packages (7.2)\n",
            "Requirement already satisfied: scipy>=0.16.0 in /usr/local/lib/python3.7/dist-packages (from pycbc) (1.4.1)\n",
            "Requirement already satisfied: matplotlib>=1.5.1 in /usr/local/lib/python3.7/dist-packages (from pycbc) (3.2.2)\n",
            "Requirement already satisfied: numpy>=1.16.0 in /usr/local/lib/python3.7/dist-packages (from pycbc) (1.19.5)\n",
            "Requirement already satisfied: jinja2 in /usr/local/lib/python3.7/dist-packages (from pycbc) (2.11.3)\n",
            "Requirement already satisfied: decorator>=3.4.2 in /usr/local/lib/python3.7/dist-packages (from pycbc) (4.4.2)\n",
            "Requirement already satisfied: h5py>=2.5 in /usr/local/lib/python3.7/dist-packages (from pycbc) (3.1.0)\n",
            "Requirement already satisfied: lscsoft-glue>=1.59.3 in /usr/local/lib/python3.7/dist-packages (from pycbc) (2.0.0)\n",
            "Requirement already satisfied: cython>=0.29 in /usr/local/lib/python3.7/dist-packages (from pycbc) (0.29.24)\n",
            "Requirement already satisfied: mpld3>=0.3 in /usr/local/lib/python3.7/dist-packages (from pycbc) (0.5.7)\n",
            "Requirement already satisfied: six>=1.10.0 in /usr/local/lib/python3.7/dist-packages (from pycbc) (1.15.0)\n",
            "Requirement already satisfied: ligo-segments in /usr/local/lib/python3.7/dist-packages (from pycbc) (1.4.0)\n",
            "Requirement already satisfied: Mako>=1.0.1 in /usr/local/lib/python3.7/dist-packages (from pycbc) (1.1.6)\n",
            "Requirement already satisfied: pillow in /usr/local/lib/python3.7/dist-packages (from pycbc) (7.1.2)\n",
            "Requirement already satisfied: beautifulsoup4>=4.6.0 in /usr/local/lib/python3.7/dist-packages (from pycbc) (4.6.3)\n",
            "Requirement already satisfied: gwdatafind in /usr/local/lib/python3.7/dist-packages (from pycbc) (1.0.4)\n",
            "Requirement already satisfied: tqdm in /usr/local/lib/python3.7/dist-packages (from pycbc) (4.62.3)\n",
            "Requirement already satisfied: requests>=1.2.1 in /usr/local/lib/python3.7/dist-packages (from pycbc) (2.23.0)\n",
            "Requirement already satisfied: astropy!=4.0.5,!=4.2.1,>=2.0.3 in /usr/local/lib/python3.7/dist-packages (from pycbc) (4.3.1)\n",
            "Requirement already satisfied: pyerfa>=1.7.3 in /usr/local/lib/python3.7/dist-packages (from astropy!=4.0.5,!=4.2.1,>=2.0.3->pycbc) (2.0.0.1)\n",
            "Requirement already satisfied: importlib-metadata in /usr/local/lib/python3.7/dist-packages (from astropy!=4.0.5,!=4.2.1,>=2.0.3->pycbc) (4.8.2)\n",
            "Requirement already satisfied: cached-property in /usr/local/lib/python3.7/dist-packages (from h5py>=2.5->pycbc) (1.5.2)\n",
            "Requirement already satisfied: pyOpenSSL in /usr/local/lib/python3.7/dist-packages (from lscsoft-glue>=1.59.3->pycbc) (21.0.0)\n",
            "Requirement already satisfied: MarkupSafe>=0.9.2 in /usr/local/lib/python3.7/dist-packages (from Mako>=1.0.1->pycbc) (2.0.1)\n",
            "Requirement already satisfied: python-dateutil>=2.1 in /usr/local/lib/python3.7/dist-packages (from matplotlib>=1.5.1->pycbc) (2.8.2)\n",
            "Requirement already satisfied: cycler>=0.10 in /usr/local/lib/python3.7/dist-packages (from matplotlib>=1.5.1->pycbc) (0.11.0)\n",
            "Requirement already satisfied: pyparsing!=2.0.4,!=2.1.2,!=2.1.6,>=2.0.1 in /usr/local/lib/python3.7/dist-packages (from matplotlib>=1.5.1->pycbc) (3.0.6)\n",
            "Requirement already satisfied: kiwisolver>=1.0.1 in /usr/local/lib/python3.7/dist-packages (from matplotlib>=1.5.1->pycbc) (1.3.2)\n",
            "Requirement already satisfied: idna<3,>=2.5 in /usr/local/lib/python3.7/dist-packages (from requests>=1.2.1->pycbc) (2.10)\n",
            "Requirement already satisfied: chardet<4,>=3.0.2 in /usr/local/lib/python3.7/dist-packages (from requests>=1.2.1->pycbc) (3.0.4)\n",
            "Requirement already satisfied: certifi>=2017.4.17 in /usr/local/lib/python3.7/dist-packages (from requests>=1.2.1->pycbc) (2021.10.8)\n",
            "Requirement already satisfied: urllib3!=1.25.0,!=1.25.1,<1.26,>=1.21.1 in /usr/local/lib/python3.7/dist-packages (from requests>=1.2.1->pycbc) (1.24.3)\n",
            "Requirement already satisfied: typing-extensions>=3.6.4 in /usr/local/lib/python3.7/dist-packages (from importlib-metadata->astropy!=4.0.5,!=4.2.1,>=2.0.3->pycbc) (3.10.0.2)\n",
            "Requirement already satisfied: zipp>=0.5 in /usr/local/lib/python3.7/dist-packages (from importlib-metadata->astropy!=4.0.5,!=4.2.1,>=2.0.3->pycbc) (3.6.0)\n",
            "Requirement already satisfied: cryptography>=3.3 in /usr/local/lib/python3.7/dist-packages (from pyOpenSSL->lscsoft-glue>=1.59.3->pycbc) (36.0.1)\n",
            "Requirement already satisfied: cffi>=1.12 in /usr/local/lib/python3.7/dist-packages (from cryptography>=3.3->pyOpenSSL->lscsoft-glue>=1.59.3->pycbc) (1.15.0)\n",
            "Requirement already satisfied: pycparser in /usr/local/lib/python3.7/dist-packages (from cffi>=1.12->cryptography>=3.3->pyOpenSSL->lscsoft-glue>=1.59.3->pycbc) (2.21)\n",
            "Collecting git+https://github.com/gwastro/example-waveform-plugin\n",
            "  Cloning https://github.com/gwastro/example-waveform-plugin to /tmp/pip-req-build-bk5hnk1b\n",
            "  Running command git clone -q https://github.com/gwastro/example-waveform-plugin /tmp/pip-req-build-bk5hnk1b\n",
            "Requirement already satisfied: pycbc in /usr/local/lib/python3.7/dist-packages (from pycbc-revchirp==0.0.dev0) (1.18.3)\n",
            "Requirement already satisfied: requests>=1.2.1 in /usr/local/lib/python3.7/dist-packages (from pycbc->pycbc-revchirp==0.0.dev0) (2.23.0)\n",
            "Requirement already satisfied: pillow in /usr/local/lib/python3.7/dist-packages (from pycbc->pycbc-revchirp==0.0.dev0) (7.1.2)\n",
            "Requirement already satisfied: matplotlib>=1.5.1 in /usr/local/lib/python3.7/dist-packages (from pycbc->pycbc-revchirp==0.0.dev0) (3.2.2)\n",
            "Requirement already satisfied: decorator>=3.4.2 in /usr/local/lib/python3.7/dist-packages (from pycbc->pycbc-revchirp==0.0.dev0) (4.4.2)\n",
            "Requirement already satisfied: lalsuite in /usr/local/lib/python3.7/dist-packages (from pycbc->pycbc-revchirp==0.0.dev0) (7.2)\n",
            "Requirement already satisfied: scipy>=0.16.0 in /usr/local/lib/python3.7/dist-packages (from pycbc->pycbc-revchirp==0.0.dev0) (1.4.1)\n",
            "Requirement already satisfied: mpld3>=0.3 in /usr/local/lib/python3.7/dist-packages (from pycbc->pycbc-revchirp==0.0.dev0) (0.5.7)\n",
            "Requirement already satisfied: gwdatafind in /usr/local/lib/python3.7/dist-packages (from pycbc->pycbc-revchirp==0.0.dev0) (1.0.4)\n",
            "Requirement already satisfied: tqdm in /usr/local/lib/python3.7/dist-packages (from pycbc->pycbc-revchirp==0.0.dev0) (4.62.3)\n",
            "Requirement already satisfied: numpy!=1.19.0,>=1.16.0 in /usr/local/lib/python3.7/dist-packages (from pycbc->pycbc-revchirp==0.0.dev0) (1.19.5)\n",
            "Requirement already satisfied: ligo-segments in /usr/local/lib/python3.7/dist-packages (from pycbc->pycbc-revchirp==0.0.dev0) (1.4.0)\n",
            "Requirement already satisfied: Mako>=1.0.1 in /usr/local/lib/python3.7/dist-packages (from pycbc->pycbc-revchirp==0.0.dev0) (1.1.6)\n",
            "Requirement already satisfied: lscsoft-glue>=1.59.3 in /usr/local/lib/python3.7/dist-packages (from pycbc->pycbc-revchirp==0.0.dev0) (2.0.0)\n",
            "Requirement already satisfied: jinja2 in /usr/local/lib/python3.7/dist-packages (from pycbc->pycbc-revchirp==0.0.dev0) (2.11.3)\n",
            "Requirement already satisfied: beautifulsoup4>=4.6.0 in /usr/local/lib/python3.7/dist-packages (from pycbc->pycbc-revchirp==0.0.dev0) (4.6.3)\n",
            "Requirement already satisfied: cython>=0.29 in /usr/local/lib/python3.7/dist-packages (from pycbc->pycbc-revchirp==0.0.dev0) (0.29.24)\n",
            "Requirement already satisfied: h5py>=2.5 in /usr/local/lib/python3.7/dist-packages (from pycbc->pycbc-revchirp==0.0.dev0) (3.1.0)\n",
            "Requirement already satisfied: astropy!=4.0.5,!=4.2.1,>=2.0.3 in /usr/local/lib/python3.7/dist-packages (from pycbc->pycbc-revchirp==0.0.dev0) (4.3.1)\n",
            "Requirement already satisfied: six>=1.10.0 in /usr/local/lib/python3.7/dist-packages (from pycbc->pycbc-revchirp==0.0.dev0) (1.15.0)\n",
            "Requirement already satisfied: pyerfa>=1.7.3 in /usr/local/lib/python3.7/dist-packages (from astropy!=4.0.5,!=4.2.1,>=2.0.3->pycbc->pycbc-revchirp==0.0.dev0) (2.0.0.1)\n",
            "Requirement already satisfied: importlib-metadata in /usr/local/lib/python3.7/dist-packages (from astropy!=4.0.5,!=4.2.1,>=2.0.3->pycbc->pycbc-revchirp==0.0.dev0) (4.8.2)\n",
            "Requirement already satisfied: cached-property in /usr/local/lib/python3.7/dist-packages (from h5py>=2.5->pycbc->pycbc-revchirp==0.0.dev0) (1.5.2)\n",
            "Requirement already satisfied: pyOpenSSL in /usr/local/lib/python3.7/dist-packages (from lscsoft-glue>=1.59.3->pycbc->pycbc-revchirp==0.0.dev0) (21.0.0)\n",
            "Requirement already satisfied: MarkupSafe>=0.9.2 in /usr/local/lib/python3.7/dist-packages (from Mako>=1.0.1->pycbc->pycbc-revchirp==0.0.dev0) (2.0.1)\n",
            "Requirement already satisfied: pyparsing!=2.0.4,!=2.1.2,!=2.1.6,>=2.0.1 in /usr/local/lib/python3.7/dist-packages (from matplotlib>=1.5.1->pycbc->pycbc-revchirp==0.0.dev0) (3.0.6)\n",
            "Requirement already satisfied: python-dateutil>=2.1 in /usr/local/lib/python3.7/dist-packages (from matplotlib>=1.5.1->pycbc->pycbc-revchirp==0.0.dev0) (2.8.2)\n",
            "Requirement already satisfied: kiwisolver>=1.0.1 in /usr/local/lib/python3.7/dist-packages (from matplotlib>=1.5.1->pycbc->pycbc-revchirp==0.0.dev0) (1.3.2)\n",
            "Requirement already satisfied: cycler>=0.10 in /usr/local/lib/python3.7/dist-packages (from matplotlib>=1.5.1->pycbc->pycbc-revchirp==0.0.dev0) (0.11.0)\n",
            "Requirement already satisfied: idna<3,>=2.5 in /usr/local/lib/python3.7/dist-packages (from requests>=1.2.1->pycbc->pycbc-revchirp==0.0.dev0) (2.10)\n",
            "Requirement already satisfied: chardet<4,>=3.0.2 in /usr/local/lib/python3.7/dist-packages (from requests>=1.2.1->pycbc->pycbc-revchirp==0.0.dev0) (3.0.4)\n",
            "Requirement already satisfied: urllib3!=1.25.0,!=1.25.1,<1.26,>=1.21.1 in /usr/local/lib/python3.7/dist-packages (from requests>=1.2.1->pycbc->pycbc-revchirp==0.0.dev0) (1.24.3)\n",
            "Requirement already satisfied: certifi>=2017.4.17 in /usr/local/lib/python3.7/dist-packages (from requests>=1.2.1->pycbc->pycbc-revchirp==0.0.dev0) (2021.10.8)\n",
            "Requirement already satisfied: zipp>=0.5 in /usr/local/lib/python3.7/dist-packages (from importlib-metadata->astropy!=4.0.5,!=4.2.1,>=2.0.3->pycbc->pycbc-revchirp==0.0.dev0) (3.6.0)\n",
            "Requirement already satisfied: typing-extensions>=3.6.4 in /usr/local/lib/python3.7/dist-packages (from importlib-metadata->astropy!=4.0.5,!=4.2.1,>=2.0.3->pycbc->pycbc-revchirp==0.0.dev0) (3.10.0.2)\n",
            "Requirement already satisfied: cryptography>=3.3 in /usr/local/lib/python3.7/dist-packages (from pyOpenSSL->lscsoft-glue>=1.59.3->pycbc->pycbc-revchirp==0.0.dev0) (36.0.1)\n",
            "Requirement already satisfied: cffi>=1.12 in /usr/local/lib/python3.7/dist-packages (from cryptography>=3.3->pyOpenSSL->lscsoft-glue>=1.59.3->pycbc->pycbc-revchirp==0.0.dev0) (1.15.0)\n",
            "Requirement already satisfied: pycparser in /usr/local/lib/python3.7/dist-packages (from cffi>=1.12->cryptography>=3.3->pyOpenSSL->lscsoft-glue>=1.59.3->pycbc->pycbc-revchirp==0.0.dev0) (2.21)\n",
            "Requirement already satisfied: gwent in /usr/local/lib/python3.7/dist-packages (0.4.0)\n",
            "Requirement already satisfied: gwinc in /usr/local/lib/python3.7/dist-packages (0.4.1)\n",
            "Requirement already satisfied: h5py in /usr/local/lib/python3.7/dist-packages (from gwent) (3.1.0)\n",
            "Requirement already satisfied: astropy in /usr/local/lib/python3.7/dist-packages (from gwent) (4.3.1)\n",
            "Requirement already satisfied: matplotlib in /usr/local/lib/python3.7/dist-packages (from gwent) (3.2.2)\n",
            "Requirement already satisfied: scipy in /usr/local/lib/python3.7/dist-packages (from gwent) (1.4.1)\n",
            "Requirement already satisfied: numpy in /usr/local/lib/python3.7/dist-packages (from gwent) (1.19.5)\n",
            "Requirement already satisfied: lalsuite in /usr/local/lib/python3.7/dist-packages (from gwent) (7.2)\n",
            "Requirement already satisfied: pyyaml in /usr/local/lib/python3.7/dist-packages (from gwent) (3.13)\n",
            "Requirement already satisfied: hasasia in /usr/local/lib/python3.7/dist-packages (from gwent) (1.2.3)\n",
            "Requirement already satisfied: ipython in /usr/local/lib/python3.7/dist-packages (from gwinc) (5.5.0)\n",
            "Requirement already satisfied: importlib-metadata in /usr/local/lib/python3.7/dist-packages (from astropy->gwent) (4.8.2)\n",
            "Requirement already satisfied: pyerfa>=1.7.3 in /usr/local/lib/python3.7/dist-packages (from astropy->gwent) (2.0.0.1)\n",
            "Requirement already satisfied: cached-property in /usr/local/lib/python3.7/dist-packages (from h5py->gwent) (1.5.2)\n",
            "Requirement already satisfied: typing-extensions>=3.6.4 in /usr/local/lib/python3.7/dist-packages (from importlib-metadata->astropy->gwent) (3.10.0.2)\n",
            "Requirement already satisfied: zipp>=0.5 in /usr/local/lib/python3.7/dist-packages (from importlib-metadata->astropy->gwent) (3.6.0)\n",
            "Requirement already satisfied: setuptools>=18.5 in /usr/local/lib/python3.7/dist-packages (from ipython->gwinc) (57.4.0)\n",
            "Requirement already satisfied: decorator in /usr/local/lib/python3.7/dist-packages (from ipython->gwinc) (4.4.2)\n",
            "Requirement already satisfied: simplegeneric>0.8 in /usr/local/lib/python3.7/dist-packages (from ipython->gwinc) (0.8.1)\n",
            "Requirement already satisfied: pygments in /usr/local/lib/python3.7/dist-packages (from ipython->gwinc) (2.6.1)\n",
            "Requirement already satisfied: prompt-toolkit<2.0.0,>=1.0.4 in /usr/local/lib/python3.7/dist-packages (from ipython->gwinc) (1.0.18)\n",
            "Requirement already satisfied: traitlets>=4.2 in /usr/local/lib/python3.7/dist-packages (from ipython->gwinc) (5.1.1)\n",
            "Requirement already satisfied: pickleshare in /usr/local/lib/python3.7/dist-packages (from ipython->gwinc) (0.7.5)\n",
            "Requirement already satisfied: pexpect in /usr/local/lib/python3.7/dist-packages (from ipython->gwinc) (4.8.0)\n",
            "Requirement already satisfied: wcwidth in /usr/local/lib/python3.7/dist-packages (from prompt-toolkit<2.0.0,>=1.0.4->ipython->gwinc) (0.2.5)\n",
            "Requirement already satisfied: six>=1.9.0 in /usr/local/lib/python3.7/dist-packages (from prompt-toolkit<2.0.0,>=1.0.4->ipython->gwinc) (1.15.0)\n",
            "Requirement already satisfied: ligo-segments in /usr/local/lib/python3.7/dist-packages (from lalsuite->gwent) (1.4.0)\n",
            "Requirement already satisfied: python-dateutil in /usr/local/lib/python3.7/dist-packages (from lalsuite->gwent) (2.8.2)\n",
            "Requirement already satisfied: lscsoft-glue in /usr/local/lib/python3.7/dist-packages (from lalsuite->gwent) (2.0.0)\n",
            "Requirement already satisfied: pyOpenSSL in /usr/local/lib/python3.7/dist-packages (from lscsoft-glue->lalsuite->gwent) (21.0.0)\n",
            "Requirement already satisfied: pyparsing!=2.0.4,!=2.1.2,!=2.1.6,>=2.0.1 in /usr/local/lib/python3.7/dist-packages (from matplotlib->gwent) (3.0.6)\n",
            "Requirement already satisfied: cycler>=0.10 in /usr/local/lib/python3.7/dist-packages (from matplotlib->gwent) (0.11.0)\n",
            "Requirement already satisfied: kiwisolver>=1.0.1 in /usr/local/lib/python3.7/dist-packages (from matplotlib->gwent) (1.3.2)\n",
            "Requirement already satisfied: ptyprocess>=0.5 in /usr/local/lib/python3.7/dist-packages (from pexpect->ipython->gwinc) (0.7.0)\n",
            "Requirement already satisfied: cryptography>=3.3 in /usr/local/lib/python3.7/dist-packages (from pyOpenSSL->lscsoft-glue->lalsuite->gwent) (36.0.1)\n",
            "Requirement already satisfied: cffi>=1.12 in /usr/local/lib/python3.7/dist-packages (from cryptography>=3.3->pyOpenSSL->lscsoft-glue->lalsuite->gwent) (1.15.0)\n",
            "Requirement already satisfied: pycparser in /usr/local/lib/python3.7/dist-packages (from cffi>=1.12->cryptography>=3.3->pyOpenSSL->lscsoft-glue->lalsuite->gwent) (2.21)\n"
          ]
        }
      ]
    },
    {
      "cell_type": "code",
      "source": [
        "# Constants\n",
        "\n",
        "G = 6.67e-11 # Newton's Gravitational Constant, in m^3/kg/s^2\n",
        "c = 2.99e8 # speed of light in m/s\n",
        "Msun = 1.9884099021470415e+30 # mass of the sun in kg\n",
        "Mpc = 3.085677581491367e+22 # Mpc in m\n",
        "\n",
        "D_L = 5.183189e-7 # Mpc\n",
        "m1 = 5 # primary mass in M_sun\n",
        "m2 = 1.35 # secondary mass in M_sun\n",
        "chi1 = 0.3 # primary dimensionless spin (c/G s/m_1^2)\n",
        "chi2 = 0.0 # secondary dimensionless spin (c/G s/m_2^2)\n",
        "f_delta = 1.0/4.0 # The frequency step used to generate the waveform (in Hz).\n",
        "f_lower = 40 # The starting frequency of the waveform (in Hz).\n",
        "approx = str('TaylorF2') # GW approximant to be used\n",
        "M = m1 + m2 # total mass (in source frame)\n",
        "mu = (m1*m2)/M # reduced mass of the system\n",
        "eta = mu/M # symmetric mass ratio\n",
        "m_chirp = M*(eta**(3/5)) # chirp mass\n",
        "# tau_c = (5/256*eta)*(G*M/c**3)*(np.pi*G*M*f_lower/c**3)**(-8/3) # time at coalescence in terms of initial GW frequency in [s], eq. 3.178c of Creighton\n",
        "# phi_c = 0.0 # phase at coalescence (default)\n",
        "tau_c = 0\n",
        "phi_c = -np.pi/4\n",
        "chi_eff = (m1*chi1 + m2*chi2)/M # effective spin"
      ],
      "metadata": {
        "id": "wRpjbjc5wsY0"
      },
      "execution_count": 2,
      "outputs": []
    },
    {
      "cell_type": "code",
      "source": [
        "# Get a vacuum frequency domain waveform\n",
        "from pycbc import waveform\n",
        "\n",
        "hptilde, hctilde = waveform.get_fd_waveform(approximant=approx,\n",
        "                             mass1=m1, mass2=m2, delta_f=f_delta, f_lower=f_lower, distance=D_L, spin1z=chi1)"
      ],
      "metadata": {
        "id": "Eg-Ndl65xckf"
      },
      "execution_count": 3,
      "outputs": []
    },
    {
      "cell_type": "code",
      "source": [
        "print(hptilde)"
      ],
      "metadata": {
        "colab": {
          "base_uri": "https://localhost:8080/"
        },
        "id": "k_5wC0YcF8xt",
        "outputId": "3c814f73-2403-4495-e422-ce82d916b4a4"
      },
      "execution_count": 4,
      "outputs": [
        {
          "output_type": "stream",
          "name": "stdout",
          "text": [
            "[ 0.00000000e+00+0.00000000e+00j  0.00000000e+00+0.00000000e+00j\n",
            "  0.00000000e+00+0.00000000e+00j ... -9.33315318e-17+1.04055123e-16j\n",
            " -9.38469960e-17+1.03510959e-16j -9.43588293e-17+1.02964763e-16j]\n"
          ]
        }
      ]
    },
    {
      "cell_type": "code",
      "source": [
        "plt.figure(0, figsize=(12.8,9.6))\n",
        "# plt.plot(LISA_prop1.fT.value, hptilde_LISA.real, 'o', label='Vacuum IMRPhenom (interpolated)')\n",
        "plt.plot(hptilde.sample_frequencies, hptilde.real(), label='Vacuum TaylorF2')\n",
        "plt.legend(fontsize='large')\n",
        "plt.grid()\n",
        "# plt.xlim(0,0.0001)\n",
        "# plt.ylim(-1e-20,1e-20)"
      ],
      "metadata": {
        "colab": {
          "base_uri": "https://localhost:8080/",
          "height": 581
        },
        "id": "9v0qvdduxrbi",
        "outputId": "9b184d9d-e2c1-4e13-df22-fa9a1907b2be"
      },
      "execution_count": 5,
      "outputs": [
        {
          "output_type": "display_data",
          "data": {
            "image/png": "[encoded data removed]",
            "text/plain": [
              "<Figure size 921.6x691.2 with 1 Axes>"
            ]
          },
          "metadata": {
            "needs_background": "light"
          }
        }
      ]
    },
    {
      "cell_type": "code",
      "source": [
        "# hp, hc = hptilde.trim_zeros(), hctilde.trim_zeros()\n",
        "# phase = waveform.utils.phase_from_polarizations(hp, hc)\n",
        "# plt.figure(1,figsize=(12.8,9.6))\n",
        "# plt.plot(hptilde.sample_frequencies, phase)"
      ],
      "metadata": {
        "id": "U6QU406CzJOd"
      },
      "execution_count": 6,
      "outputs": []
    },
    {
      "cell_type": "code",
      "source": [
        "# Copyright (C) 2020  Ssohrab Borhanian\n",
        "# \n",
        "# This program is free software; you can redistribute it and/or modify\n",
        "# it under the terms of the GNU General Public License as published by\n",
        "# the Free Software Foundation; either version 2 of the License, or\n",
        "# (at your option) any later version.\n",
        "# \n",
        "# This program is distributed in the hope that it will be useful,\n",
        "# but WITHOUT ANY WARRANTY; without even the implied warranty of\n",
        "# MERCHANTABILITY or FITNESS FOR A PARTICULAR PURPOSE.  See the\n",
        "# GNU General Public License for more details.\n",
        "# \n",
        "# You should have received a copy of the GNU General Public License along\n",
        "# with this program; if not, write to the Free Software Foundation, Inc.,\n",
        "# 51 Franklin Street, Fifth Floor, Boston, MA 02110-1301 USA.\n",
        "\n",
        "\n",
        "# import numpy as np\n",
        "import sympy as sp\n",
        "\n",
        "# import gwbench.basic_relations as brs\n",
        "# from gwbench.basic_constants import time_fac, strain_fac\n",
        "\n",
        "cos = sp.cos\n",
        "sin = sp.sin\n",
        "log = sp.log\n",
        "PI = np.pi\n",
        "\n",
        "wf_symbs_string = 'f Mc eta chi1z chi2z DL tc phic iota'\n",
        "f, Mc, eta, chi1z, chi2z, DL, tc, phic, iota = sp.symbols(wf_symbs_string, real=True)\n",
        "# f = sp.symbols('f', seq=True)\n",
        "\n",
        "#------from Anruadha--------\n",
        "# defining constants\n",
        "GammaE = 0.577215664901532\n",
        "\n",
        "def hfpc(f, Mc, eta, chi1z, chi2z, DL, tc, phic, iota):\n",
        "    '''\n",
        "    Mc ... in solar mass\n",
        "    DL ... in mega parsec\n",
        "    '''\n",
        "    # convert to sec\n",
        "    Mc = Mc * (G*Msun/c**3)\n",
        "    DL = DL * Mpc/c\n",
        "\n",
        "    # get sym and asym chi combinations\n",
        "    chi_s = 0.5*(chi1z+chi2z)\n",
        "    chi_a = 0.5*(chi1z-chi2z)\n",
        "\n",
        "    '''\n",
        "    Mc is in sec, e.g., Mc = 10*MTSUN_SI (for 10 solar mass)\n",
        "    DL is in sec, e.g., DL = 100*1e6*PC_SI/C_SI (for 100 Mpc)\n",
        "    '''\n",
        "\n",
        "    M = Mc/eta**(3./5.)\n",
        "    delta = (1.-4.*eta)**0.5\n",
        "    v  = (PI*M*f)**(1./3.)\n",
        "    flso = 1./6.**(3./2.)/PI/M\n",
        "    vlso = (PI*M*flso)**(1./3.)\n",
        "    A =((5./24.)**0.5/PI**(2./3.))*(Mc**(5./6.)/DL)\n",
        "\n",
        "    # 3.5PN phasing (point particle limit)\n",
        "    p0 = 1.\n",
        "\n",
        "    p1 = 0\n",
        "\n",
        "    p2 = (3715./756. + (55.*eta)/9.)\n",
        "\n",
        "    p3 = (-16.*PI + (113.*delta*chi_a)/3. + (113./3. - (76.*eta)/3.)*chi_s)\n",
        "\n",
        "    p4 = (15293365./508032. + (27145.*eta)/504.+ (3085.*eta**2)/72. + (-405./8. + 200.*eta)*chi_a**2 - (405.*delta*chi_a*chi_s)/4. + (-405./8. + (5.*eta)/2.)*chi_s**2)\n",
        "\n",
        "    gamma = (732985./2268. - 24260.*eta/81. - 340.*eta**2/9.)*chi_s + (732985./2268. + 140.*eta/9.)*delta*chi_a\n",
        "\n",
        "    p5 = (38645.*PI/756. - 65.*PI*eta/9. - gamma)\n",
        "\n",
        "    p5L = (38645.*PI/756. - 65.*PI*eta/9. - gamma)*3*log(v/vlso)\n",
        "\n",
        "    p6 = (11583231236531./4694215680. - 640./3.*PI**2 - 6848./21.*GammaE + eta*(-15737765635./3048192. + 2255./12.*PI**2) + eta*eta*76055./1728. - eta*eta*eta*127825./1296. \\\n",
        "         - (6848./21.)*log(4.) + PI*(2270.*delta*chi_a/3. + (2270./3. - 520.*eta)*chi_s) + (75515./144. - 8225.*eta/18.)*delta*chi_a*chi_s \\\n",
        "         + (75515./288. - 263245.*eta/252. - 480.*eta**2)*chi_a**2 + (75515./288. - 232415.*eta/504. + 1255.*eta**2/9.)*chi_s**2)\n",
        "\n",
        "    p6L = -(6848./21.)*log(v)\n",
        "\n",
        "    p7 = (((77096675.*PI)/254016. + (378515.*PI*eta)/1512.- (74045.*PI*eta**2)/756. + (-25150083775./3048192. + (10566655595.*eta)/762048. - (1042165.*eta**2)/3024. + (5345.*eta**3)/36.\n",
        "         + (14585./8. - 7270.*eta + 80.*eta**2)*chi_a**2)*chi_s + (14585./24. - (475.*eta)/6. + (100.*eta**2)/3.)*chi_s**3 + delta*((-25150083775./3048192.\n",
        "         + (26804935.*eta)/6048. - (1985.*eta**2)/48.)*chi_a + (14585./24. - 2380.*eta)*chi_a**3 + (14585./8. - (215.*eta)/2.)*chi_a*chi_s**2)))\n",
        "\n",
        "    phase = 2*f*PI*tc - phic - PI/4. + (3./(128.*v**5*eta))*(p0 + v*p1 + v**2*p2 + v**3*p3+ v**4*p4 + v**5*(p5+p5L) + v**6*(p6+p6L) + v**7*p7)\n",
        "\n",
        "    hp = 0.5*(1+(cos(iota))**2)*A*f**(-7./6.)*(cos(phase) - 1j*sin(phase))\n",
        "    hc = -1j*cos(iota)*A*f**(-7./6.)*(cos(phase) - 1j*sin(phase))\n",
        "\n",
        "    return hp, hc\n"
      ],
      "metadata": {
        "id": "w4P7FYQ20SUe"
      },
      "execution_count": 7,
      "outputs": []
    },
    {
      "cell_type": "code",
      "source": [
        "# f=np.linspace(15,700,10000)\n",
        "\n",
        "Ohme_hp=hfpc(f,(6.35*((5*1.35)/6.35**2)**(3/5)),((5*1.35)/6.35**2),0.3,0,5.183189e-7,0,-PI/4,0)[0]"
      ],
      "metadata": {
        "id": "4pjG35j5uK4E"
      },
      "execution_count": 8,
      "outputs": []
    },
    {
      "cell_type": "code",
      "source": [
        "print(hfpc(f,(6.35*((5*1.35)/6.35**2)**(3/5)),eta,0.3,0,5.183189e-7,0,-PI/4,0)[0].diff(eta))\n",
        "print(hfpc(f,Mc,((5*1.35)/6.35**2)**(3/5),0.3,0,5.183189e-7,0,-PI/4,0)[0].diff(Mc))"
      ],
      "metadata": {
        "colab": {
          "base_uri": "https://localhost:8080/"
        },
        "id": "9q3k5xJCFMWC",
        "outputId": "4fb1f99c-d679-4f30-9fb5-47b6d3136b4d"
      },
      "execution_count": 9,
      "outputs": [
        {
          "output_type": "stream",
          "name": "stdout",
          "text": [
            "2.88541189641994e-13*f**(-1.16666666666667)*(-(661076.911181786*eta**(-2.0)*(eta**(-0.6)*f)**(-1.66666666666667)*(0.00104680001053384*(eta**(-0.6)*f)**0.666666666666667*(6.11111111111111*eta + 4.91402116402116) + 3.38684699663364e-5*(eta**(-0.6)*f)**1.0*(-3.8*eta + 11.3*(0.25 - eta)**0.5 - 44.6154824574367) + 1.09579026205364e-6*(eta**(-0.6)*f)**1.33333333333333*(42.8472222222222*eta**2 + 58.415376984127*eta - 4.55625*(0.25 - eta)**0.5 + 27.8250279509952) + 3.54535147175259e-8*(eta**(-0.6)*f)**1.66666666666667*(5.66666666666667*eta**2 + 22.2366456499996*eta - 0.3*(0.25 - eta)**0.5*(15.5555555555556*eta + 323.185626102293) + (17.0*eta**2 + 66.7099369499989*eta - 0.9*(0.25 - eta)**0.5*(15.5555555555556*eta + 323.185626102293) + 336.339674991974)*log(0.0792514988072972*(eta**(-0.6)*f)**0.333333333333333) + 112.113224997325) + 1.14707325786063e-9*(eta**(-0.6)*f)**2.0*(-98.6304012345679*eta**3 + 36.3508101851852*eta**2 - 3587.24446215589*eta + 0.045*(0.25 - eta)**0.5*(524.409722222222 - 456.944444444444*eta) + 713.141532364883*(0.25 - eta)**0.5 - 326.095238095238*log(0.0323542889047779*(eta**(-0.6)*f)**0.333333333333333) + 90.117228901732) + 3.71127395797677e-11*(eta**(-0.6)*f)**2.33333333333333*(22.2708333333333*eta**3 - 359.00958404108*eta**2 + 2841.58407438884*eta + 2.0*(0.25 - eta)**0.5*(-6.203125*eta**2 + 656.409623015873*eta - 1229.4189501744) - 275.910715275022) + 1.0) + 661076.911181786*(eta**(-0.6)*f)**(-1.66666666666667)*(-0.000418720004213535*eta**(-1.0)*(eta**(-0.6)*f)**0.666666666666667*(6.11111111111111*eta + 4.91402116402116) - 2.03210819798018e-5*eta**(-1.0)*(eta**(-0.6)*f)**1.0*(-3.8*eta + 11.3*(0.25 - eta)**0.5 - 44.6154824574367) - 8.76632209642914e-7*eta**(-1.0)*(eta**(-0.6)*f)**1.33333333333333*(42.8472222222222*eta**2 + 58.415376984127*eta - 4.55625*(0.25 - eta)**0.5 + 27.8250279509952) - 3.54535147175259e-8*eta**(-1.0)*(eta**(-0.6)*f)**1.66666666666667*(5.66666666666667*eta**2 + 22.2366456499996*eta - 0.3*(0.25 - eta)**0.5*(15.5555555555556*eta + 323.185626102293) + (17.0*eta**2 + 66.7099369499989*eta - 0.9*(0.25 - eta)**0.5*(15.5555555555556*eta + 323.185626102293) + 336.339674991974)*log(0.0792514988072972*(eta**(-0.6)*f)**0.333333333333333) + 112.113224997325) - 1.37648790943275e-9*eta**(-1.0)*(eta**(-0.6)*f)**2.0*(-98.6304012345679*eta**3 + 36.3508101851852*eta**2 - 3587.24446215589*eta + 0.045*(0.25 - eta)**0.5*(524.409722222222 - 456.944444444444*eta) + 713.141532364883*(0.25 - eta)**0.5 - 326.095238095238*log(0.0323542889047779*(eta**(-0.6)*f)**0.333333333333333) + 90.117228901732) - 5.19578354116747e-11*eta**(-1.0)*(eta**(-0.6)*f)**2.33333333333333*(22.2708333333333*eta**3 - 359.00958404108*eta**2 + 2841.58407438884*eta + 2.0*(0.25 - eta)**0.5*(-6.203125*eta**2 + 656.409623015873*eta - 1229.4189501744) - 275.910715275022) + 0.00639711117548456*(eta**(-0.6)*f)**0.666666666666667 + 3.38684699663364e-5*(eta**(-0.6)*f)**1.0*(-5.65*(0.25 - eta)**(-0.5) - 3.8) + 1.09579026205364e-6*(eta**(-0.6)*f)**1.33333333333333*(85.6944444444444*eta + 2.278125*(0.25 - eta)**(-0.5) + 58.415376984127) + 3.54535147175259e-8*(eta**(-0.6)*f)**1.66666666666667*(-0.2*eta**(-1.0)*(17.0*eta**2 + 66.7099369499989*eta - 0.9*(0.25 - eta)**0.5*(15.5555555555556*eta + 323.185626102293) + 336.339674991974) + 11.3333333333333*eta + 0.15*(0.25 - eta)**(-0.5)*(15.5555555555556*eta + 323.185626102293) - 4.66666666666667*(0.25 - eta)**0.5 + (34.0*eta + 0.45*(0.25 - eta)**(-0.5)*(15.5555555555556*eta + 323.185626102293) - 14.0*(0.25 - eta)**0.5 + 66.7099369499989)*log(0.0792514988072972*(eta**(-0.6)*f)**0.333333333333333) + 22.2366456499996) + 1.14707325786063e-9*(eta**(-0.6)*f)**2.0*(65.2190476190476*eta**(-1.0) - 295.891203703704*eta**2 + 72.7016203703704*eta - 0.0225*(0.25 - eta)**(-0.5)*(524.409722222222 - 456.944444444444*eta) - 356.570766182442*(0.25 - eta)**(-0.5) - 20.5625*(0.25 - eta)**0.5 - 3587.24446215589) + 3.71127395797677e-11*(eta**(-0.6)*f)**2.33333333333333*(66.8125*eta**2 - 718.019168082159*eta - 1.0*(0.25 - eta)**(-0.5)*(-6.203125*eta**2 + 656.409623015873*eta - 1229.4189501744) + 2.0*(0.25 - eta)**0.5*(656.409623015873 - 12.40625*eta) + 2841.58407438884))/eta - 661076.911181786*(eta**(-0.6)*f)**(-1.66666666666667)*(0.00104680001053384*(eta**(-0.6)*f)**0.666666666666667*(6.11111111111111*eta + 4.91402116402116) + 3.38684699663364e-5*(eta**(-0.6)*f)**1.0*(-3.8*eta + 11.3*(0.25 - eta)**0.5 - 44.6154824574367) + 1.09579026205364e-6*(eta**(-0.6)*f)**1.33333333333333*(42.8472222222222*eta**2 + 58.415376984127*eta - 4.55625*(0.25 - eta)**0.5 + 27.8250279509952) + 3.54535147175259e-8*(eta**(-0.6)*f)**1.66666666666667*(5.66666666666667*eta**2 + 22.2366456499996*eta - 0.3*(0.25 - eta)**0.5*(15.5555555555556*eta + 323.185626102293) + (17.0*eta**2 + 66.7099369499989*eta - 0.9*(0.25 - eta)**0.5*(15.5555555555556*eta + 323.185626102293) + 336.339674991974)*log(0.0792514988072972*(eta**(-0.6)*f)**0.333333333333333) + 112.113224997325) + 1.14707325786063e-9*(eta**(-0.6)*f)**2.0*(-98.6304012345679*eta**3 + 36.3508101851852*eta**2 - 3587.24446215589*eta + 0.045*(0.25 - eta)**0.5*(524.409722222222 - 456.944444444444*eta) + 713.141532364883*(0.25 - eta)**0.5 - 326.095238095238*log(0.0323542889047779*(eta**(-0.6)*f)**0.333333333333333) + 90.117228901732) + 3.71127395797677e-11*(eta**(-0.6)*f)**2.33333333333333*(22.2708333333333*eta**3 - 359.00958404108*eta**2 + 2841.58407438884*eta + 2.0*(0.25 - eta)**0.5*(-6.203125*eta**2 + 656.409623015873*eta - 1229.4189501744) - 275.910715275022) + 1.0)/eta**2)*sin(661076.911181786*(eta**(-0.6)*f)**(-1.66666666666667)*(0.00104680001053384*(eta**(-0.6)*f)**0.666666666666667*(6.11111111111111*eta + 4.91402116402116) + 3.38684699663364e-5*(eta**(-0.6)*f)**1.0*(-3.8*eta + 11.3*(0.25 - eta)**0.5 - 44.6154824574367) + 1.09579026205364e-6*(eta**(-0.6)*f)**1.33333333333333*(42.8472222222222*eta**2 + 58.415376984127*eta - 4.55625*(0.25 - eta)**0.5 + 27.8250279509952) + 3.54535147175259e-8*(eta**(-0.6)*f)**1.66666666666667*(5.66666666666667*eta**2 + 22.2366456499996*eta - 0.3*(0.25 - eta)**0.5*(15.5555555555556*eta + 323.185626102293) + (17.0*eta**2 + 66.7099369499989*eta - 0.9*(0.25 - eta)**0.5*(15.5555555555556*eta + 323.185626102293) + 336.339674991974)*log(0.0792514988072972*(eta**(-0.6)*f)**0.333333333333333) + 112.113224997325) + 1.14707325786063e-9*(eta**(-0.6)*f)**2.0*(-98.6304012345679*eta**3 + 36.3508101851852*eta**2 - 3587.24446215589*eta + 0.045*(0.25 - eta)**0.5*(524.409722222222 - 456.944444444444*eta) + 713.141532364883*(0.25 - eta)**0.5 - 326.095238095238*log(0.0323542889047779*(eta**(-0.6)*f)**0.333333333333333) + 90.117228901732) + 3.71127395797677e-11*(eta**(-0.6)*f)**2.33333333333333*(22.2708333333333*eta**3 - 359.00958404108*eta**2 + 2841.58407438884*eta + 2.0*(0.25 - eta)**0.5*(-6.203125*eta**2 + 656.409623015873*eta - 1229.4189501744) - 275.910715275022) + 1.0)/eta) - 1.0*I*(661076.911181786*eta**(-2.0)*(eta**(-0.6)*f)**(-1.66666666666667)*(0.00104680001053384*(eta**(-0.6)*f)**0.666666666666667*(6.11111111111111*eta + 4.91402116402116) + 3.38684699663364e-5*(eta**(-0.6)*f)**1.0*(-3.8*eta + 11.3*(0.25 - eta)**0.5 - 44.6154824574367) + 1.09579026205364e-6*(eta**(-0.6)*f)**1.33333333333333*(42.8472222222222*eta**2 + 58.415376984127*eta - 4.55625*(0.25 - eta)**0.5 + 27.8250279509952) + 3.54535147175259e-8*(eta**(-0.6)*f)**1.66666666666667*(5.66666666666667*eta**2 + 22.2366456499996*eta - 0.3*(0.25 - eta)**0.5*(15.5555555555556*eta + 323.185626102293) + (17.0*eta**2 + 66.7099369499989*eta - 0.9*(0.25 - eta)**0.5*(15.5555555555556*eta + 323.185626102293) + 336.339674991974)*log(0.0792514988072972*(eta**(-0.6)*f)**0.333333333333333) + 112.113224997325) + 1.14707325786063e-9*(eta**(-0.6)*f)**2.0*(-98.6304012345679*eta**3 + 36.3508101851852*eta**2 - 3587.24446215589*eta + 0.045*(0.25 - eta)**0.5*(524.409722222222 - 456.944444444444*eta) + 713.141532364883*(0.25 - eta)**0.5 - 326.095238095238*log(0.0323542889047779*(eta**(-0.6)*f)**0.333333333333333) + 90.117228901732) + 3.71127395797677e-11*(eta**(-0.6)*f)**2.33333333333333*(22.2708333333333*eta**3 - 359.00958404108*eta**2 + 2841.58407438884*eta + 2.0*(0.25 - eta)**0.5*(-6.203125*eta**2 + 656.409623015873*eta - 1229.4189501744) - 275.910715275022) + 1.0) + 661076.911181786*(eta**(-0.6)*f)**(-1.66666666666667)*(-0.000418720004213535*eta**(-1.0)*(eta**(-0.6)*f)**0.666666666666667*(6.11111111111111*eta + 4.91402116402116) - 2.03210819798018e-5*eta**(-1.0)*(eta**(-0.6)*f)**1.0*(-3.8*eta + 11.3*(0.25 - eta)**0.5 - 44.6154824574367) - 8.76632209642914e-7*eta**(-1.0)*(eta**(-0.6)*f)**1.33333333333333*(42.8472222222222*eta**2 + 58.415376984127*eta - 4.55625*(0.25 - eta)**0.5 + 27.8250279509952) - 3.54535147175259e-8*eta**(-1.0)*(eta**(-0.6)*f)**1.66666666666667*(5.66666666666667*eta**2 + 22.2366456499996*eta - 0.3*(0.25 - eta)**0.5*(15.5555555555556*eta + 323.185626102293) + (17.0*eta**2 + 66.7099369499989*eta - 0.9*(0.25 - eta)**0.5*(15.5555555555556*eta + 323.185626102293) + 336.339674991974)*log(0.0792514988072972*(eta**(-0.6)*f)**0.333333333333333) + 112.113224997325) - 1.37648790943275e-9*eta**(-1.0)*(eta**(-0.6)*f)**2.0*(-98.6304012345679*eta**3 + 36.3508101851852*eta**2 - 3587.24446215589*eta + 0.045*(0.25 - eta)**0.5*(524.409722222222 - 456.944444444444*eta) + 713.141532364883*(0.25 - eta)**0.5 - 326.095238095238*log(0.0323542889047779*(eta**(-0.6)*f)**0.333333333333333) + 90.117228901732) - 5.19578354116747e-11*eta**(-1.0)*(eta**(-0.6)*f)**2.33333333333333*(22.2708333333333*eta**3 - 359.00958404108*eta**2 + 2841.58407438884*eta + 2.0*(0.25 - eta)**0.5*(-6.203125*eta**2 + 656.409623015873*eta - 1229.4189501744) - 275.910715275022) + 0.00639711117548456*(eta**(-0.6)*f)**0.666666666666667 + 3.38684699663364e-5*(eta**(-0.6)*f)**1.0*(-5.65*(0.25 - eta)**(-0.5) - 3.8) + 1.09579026205364e-6*(eta**(-0.6)*f)**1.33333333333333*(85.6944444444444*eta + 2.278125*(0.25 - eta)**(-0.5) + 58.415376984127) + 3.54535147175259e-8*(eta**(-0.6)*f)**1.66666666666667*(-0.2*eta**(-1.0)*(17.0*eta**2 + 66.7099369499989*eta - 0.9*(0.25 - eta)**0.5*(15.5555555555556*eta + 323.185626102293) + 336.339674991974) + 11.3333333333333*eta + 0.15*(0.25 - eta)**(-0.5)*(15.5555555555556*eta + 323.185626102293) - 4.66666666666667*(0.25 - eta)**0.5 + (34.0*eta + 0.45*(0.25 - eta)**(-0.5)*(15.5555555555556*eta + 323.185626102293) - 14.0*(0.25 - eta)**0.5 + 66.7099369499989)*log(0.0792514988072972*(eta**(-0.6)*f)**0.333333333333333) + 22.2366456499996) + 1.14707325786063e-9*(eta**(-0.6)*f)**2.0*(65.2190476190476*eta**(-1.0) - 295.891203703704*eta**2 + 72.7016203703704*eta - 0.0225*(0.25 - eta)**(-0.5)*(524.409722222222 - 456.944444444444*eta) - 356.570766182442*(0.25 - eta)**(-0.5) - 20.5625*(0.25 - eta)**0.5 - 3587.24446215589) + 3.71127395797677e-11*(eta**(-0.6)*f)**2.33333333333333*(66.8125*eta**2 - 718.019168082159*eta - 1.0*(0.25 - eta)**(-0.5)*(-6.203125*eta**2 + 656.409623015873*eta - 1229.4189501744) + 2.0*(0.25 - eta)**0.5*(656.409623015873 - 12.40625*eta) + 2841.58407438884))/eta - 661076.911181786*(eta**(-0.6)*f)**(-1.66666666666667)*(0.00104680001053384*(eta**(-0.6)*f)**0.666666666666667*(6.11111111111111*eta + 4.91402116402116) + 3.38684699663364e-5*(eta**(-0.6)*f)**1.0*(-3.8*eta + 11.3*(0.25 - eta)**0.5 - 44.6154824574367) + 1.09579026205364e-6*(eta**(-0.6)*f)**1.33333333333333*(42.8472222222222*eta**2 + 58.415376984127*eta - 4.55625*(0.25 - eta)**0.5 + 27.8250279509952) + 3.54535147175259e-8*(eta**(-0.6)*f)**1.66666666666667*(5.66666666666667*eta**2 + 22.2366456499996*eta - 0.3*(0.25 - eta)**0.5*(15.5555555555556*eta + 323.185626102293) + (17.0*eta**2 + 66.7099369499989*eta - 0.9*(0.25 - eta)**0.5*(15.5555555555556*eta + 323.185626102293) + 336.339674991974)*log(0.0792514988072972*(eta**(-0.6)*f)**0.333333333333333) + 112.113224997325) + 1.14707325786063e-9*(eta**(-0.6)*f)**2.0*(-98.6304012345679*eta**3 + 36.3508101851852*eta**2 - 3587.24446215589*eta + 0.045*(0.25 - eta)**0.5*(524.409722222222 - 456.944444444444*eta) + 713.141532364883*(0.25 - eta)**0.5 - 326.095238095238*log(0.0323542889047779*(eta**(-0.6)*f)**0.333333333333333) + 90.117228901732) + 3.71127395797677e-11*(eta**(-0.6)*f)**2.33333333333333*(22.2708333333333*eta**3 - 359.00958404108*eta**2 + 2841.58407438884*eta + 2.0*(0.25 - eta)**0.5*(-6.203125*eta**2 + 656.409623015873*eta - 1229.4189501744) - 275.910715275022) + 1.0)/eta**2)*cos(661076.911181786*(eta**(-0.6)*f)**(-1.66666666666667)*(0.00104680001053384*(eta**(-0.6)*f)**0.666666666666667*(6.11111111111111*eta + 4.91402116402116) + 3.38684699663364e-5*(eta**(-0.6)*f)**1.0*(-3.8*eta + 11.3*(0.25 - eta)**0.5 - 44.6154824574367) + 1.09579026205364e-6*(eta**(-0.6)*f)**1.33333333333333*(42.8472222222222*eta**2 + 58.415376984127*eta - 4.55625*(0.25 - eta)**0.5 + 27.8250279509952) + 3.54535147175259e-8*(eta**(-0.6)*f)**1.66666666666667*(5.66666666666667*eta**2 + 22.2366456499996*eta - 0.3*(0.25 - eta)**0.5*(15.5555555555556*eta + 323.185626102293) + (17.0*eta**2 + 66.7099369499989*eta - 0.9*(0.25 - eta)**0.5*(15.5555555555556*eta + 323.185626102293) + 336.339674991974)*log(0.0792514988072972*(eta**(-0.6)*f)**0.333333333333333) + 112.113224997325) + 1.14707325786063e-9*(eta**(-0.6)*f)**2.0*(-98.6304012345679*eta**3 + 36.3508101851852*eta**2 - 3587.24446215589*eta + 0.045*(0.25 - eta)**0.5*(524.409722222222 - 456.944444444444*eta) + 713.141532364883*(0.25 - eta)**0.5 - 326.095238095238*log(0.0323542889047779*(eta**(-0.6)*f)**0.333333333333333) + 90.117228901732) + 3.71127395797677e-11*(eta**(-0.6)*f)**2.33333333333333*(22.2708333333333*eta**3 - 359.00958404108*eta**2 + 2841.58407438884*eta + 2.0*(0.25 - eta)**0.5*(-6.203125*eta**2 + 656.409623015873*eta - 1229.4189501744) - 275.910715275022) + 1.0)/eta))\n",
            "1.25941919004454e-13*Mc**(-0.166666666666667)*f**(-1.16666666666667)*(-1.0*I*sin(2409708.55940039*(Mc*f)**(-1.66666666666667)*(0.00671262819368351*(Mc*f)**0.666666666666667 + 2.96630485690347e-5*(Mc*f)**1.0*(-45.9157639765372 + 3.43079886254624*I) + 9.1823613024466e-7*(Mc*f)**1.33333333333333*(52.8304036041372 - 1.38332542632534*I) + 2.84245089955744e-8*(Mc*f)**1.66666666666667*((361.156911659982 - 89.764749538912*I)*log(0.0758253143554222*(Mc*f)**0.333333333333333) + 120.385637219994 - 29.9215831796373*I) + 8.79896450408912e-10*(Mc*f)**2.0*(-326.095238095238*log(0.0309555549594861*(Mc*f)**0.333333333333333) - 1137.05913529957 + 221.545781793506*I) + 2.72376829292898e-11*(Mc*f)**2.33333333333333*(655.277691841745 - 610.582271654767*I) + 1.0)) + cos(2409708.55940039*(Mc*f)**(-1.66666666666667)*(0.00671262819368351*(Mc*f)**0.666666666666667 + 2.96630485690347e-5*(Mc*f)**1.0*(-45.9157639765372 + 3.43079886254624*I) + 9.1823613024466e-7*(Mc*f)**1.33333333333333*(52.8304036041372 - 1.38332542632534*I) + 2.84245089955744e-8*(Mc*f)**1.66666666666667*((361.156911659982 - 89.764749538912*I)*log(0.0758253143554222*(Mc*f)**0.333333333333333) + 120.385637219994 - 29.9215831796373*I) + 8.79896450408912e-10*(Mc*f)**2.0*(-326.095238095238*log(0.0309555549594861*(Mc*f)**0.333333333333333) - 1137.05913529957 + 221.545781793506*I) + 2.72376829292898e-11*(Mc*f)**2.33333333333333*(655.277691841745 - 610.582271654767*I) + 1.0))) + 1.51130302805345e-13*Mc**0.833333333333333*f**(-1.16666666666667)*(-(2409708.55940039*(Mc*f)**(-1.66666666666667)*(0.00447508546245567*(Mc*f)**0.666666666666667/Mc + 2.96630485690347e-5*(Mc*f)**1.0*(-45.9157639765372 + 3.43079886254624*I)/Mc + 1.22431484032621e-6*(Mc*f)**1.33333333333333*(52.8304036041372 - 1.38332542632534*I)/Mc + 4.73741816592907e-8*(Mc*f)**1.66666666666667*((361.156911659982 - 89.764749538912*I)*log(0.0758253143554222*(Mc*f)**0.333333333333333) + 120.385637219994 - 29.9215831796373*I)/Mc + 9.47483633185814e-9*(Mc*f)**1.66666666666667*(361.156911659982 - 89.764749538912*I)/Mc + 1.75979290081782e-9*(Mc*f)**2.0*(-326.095238095238*log(0.0309555549594861*(Mc*f)**0.333333333333333) - 1137.05913529957 + 221.545781793506*I)/Mc - 9.56433474984163e-8*(Mc*f)**2.0/Mc + 6.35545935016763e-11*(Mc*f)**2.33333333333333*(655.277691841745 - 610.582271654767*I)/Mc) - 4016180.93233399*(Mc*f)**(-1.66666666666667)*(0.00671262819368351*(Mc*f)**0.666666666666667 + 2.96630485690347e-5*(Mc*f)**1.0*(-45.9157639765372 + 3.43079886254624*I) + 9.1823613024466e-7*(Mc*f)**1.33333333333333*(52.8304036041372 - 1.38332542632534*I) + 2.84245089955744e-8*(Mc*f)**1.66666666666667*((361.156911659982 - 89.764749538912*I)*log(0.0758253143554222*(Mc*f)**0.333333333333333) + 120.385637219994 - 29.9215831796373*I) + 8.79896450408912e-10*(Mc*f)**2.0*(-326.095238095238*log(0.0309555549594861*(Mc*f)**0.333333333333333) - 1137.05913529957 + 221.545781793506*I) + 2.72376829292898e-11*(Mc*f)**2.33333333333333*(655.277691841745 - 610.582271654767*I) + 1.0)/Mc)*sin(2409708.55940039*(Mc*f)**(-1.66666666666667)*(0.00671262819368351*(Mc*f)**0.666666666666667 + 2.96630485690347e-5*(Mc*f)**1.0*(-45.9157639765372 + 3.43079886254624*I) + 9.1823613024466e-7*(Mc*f)**1.33333333333333*(52.8304036041372 - 1.38332542632534*I) + 2.84245089955744e-8*(Mc*f)**1.66666666666667*((361.156911659982 - 89.764749538912*I)*log(0.0758253143554222*(Mc*f)**0.333333333333333) + 120.385637219994 - 29.9215831796373*I) + 8.79896450408912e-10*(Mc*f)**2.0*(-326.095238095238*log(0.0309555549594861*(Mc*f)**0.333333333333333) - 1137.05913529957 + 221.545781793506*I) + 2.72376829292898e-11*(Mc*f)**2.33333333333333*(655.277691841745 - 610.582271654767*I) + 1.0)) - 1.0*I*(2409708.55940039*(Mc*f)**(-1.66666666666667)*(0.00447508546245567*(Mc*f)**0.666666666666667/Mc + 2.96630485690347e-5*(Mc*f)**1.0*(-45.9157639765372 + 3.43079886254624*I)/Mc + 1.22431484032621e-6*(Mc*f)**1.33333333333333*(52.8304036041372 - 1.38332542632534*I)/Mc + 4.73741816592907e-8*(Mc*f)**1.66666666666667*((361.156911659982 - 89.764749538912*I)*log(0.0758253143554222*(Mc*f)**0.333333333333333) + 120.385637219994 - 29.9215831796373*I)/Mc + 9.47483633185814e-9*(Mc*f)**1.66666666666667*(361.156911659982 - 89.764749538912*I)/Mc + 1.75979290081782e-9*(Mc*f)**2.0*(-326.095238095238*log(0.0309555549594861*(Mc*f)**0.333333333333333) - 1137.05913529957 + 221.545781793506*I)/Mc - 9.56433474984163e-8*(Mc*f)**2.0/Mc + 6.35545935016763e-11*(Mc*f)**2.33333333333333*(655.277691841745 - 610.582271654767*I)/Mc) - 4016180.93233399*(Mc*f)**(-1.66666666666667)*(0.00671262819368351*(Mc*f)**0.666666666666667 + 2.96630485690347e-5*(Mc*f)**1.0*(-45.9157639765372 + 3.43079886254624*I) + 9.1823613024466e-7*(Mc*f)**1.33333333333333*(52.8304036041372 - 1.38332542632534*I) + 2.84245089955744e-8*(Mc*f)**1.66666666666667*((361.156911659982 - 89.764749538912*I)*log(0.0758253143554222*(Mc*f)**0.333333333333333) + 120.385637219994 - 29.9215831796373*I) + 8.79896450408912e-10*(Mc*f)**2.0*(-326.095238095238*log(0.0309555549594861*(Mc*f)**0.333333333333333) - 1137.05913529957 + 221.545781793506*I) + 2.72376829292898e-11*(Mc*f)**2.33333333333333*(655.277691841745 - 610.582271654767*I) + 1.0)/Mc)*cos(2409708.55940039*(Mc*f)**(-1.66666666666667)*(0.00671262819368351*(Mc*f)**0.666666666666667 + 2.96630485690347e-5*(Mc*f)**1.0*(-45.9157639765372 + 3.43079886254624*I) + 9.1823613024466e-7*(Mc*f)**1.33333333333333*(52.8304036041372 - 1.38332542632534*I) + 2.84245089955744e-8*(Mc*f)**1.66666666666667*((361.156911659982 - 89.764749538912*I)*log(0.0758253143554222*(Mc*f)**0.333333333333333) + 120.385637219994 - 29.9215831796373*I) + 8.79896450408912e-10*(Mc*f)**2.0*(-326.095238095238*log(0.0309555549594861*(Mc*f)**0.333333333333333) - 1137.05913529957 + 221.545781793506*I) + 2.72376829292898e-11*(Mc*f)**2.33333333333333*(655.277691841745 - 610.582271654767*I) + 1.0)))\n"
          ]
        }
      ]
    },
    {
      "cell_type": "code",
      "source": [
        "hp_numpy = sp.lambdify(f,hfpc(f,(6.35*((5*1.35)/6.35**2)**(3/5)),((5*1.35)/6.35**2)**(3/5),0.3,0,5.183189e-7,0,-PI/4,0)[0],'numpy')\n",
        "print(hp_numpy(692))"
      ],
      "metadata": {
        "colab": {
          "base_uri": "https://localhost:8080/"
        },
        "id": "D71-b8nhXdFN",
        "outputId": "365ea0dc-5e6b-439a-f61b-9bd7e88bf4db"
      },
      "execution_count": 13,
      "outputs": [
        {
          "output_type": "stream",
          "name": "stdout",
          "text": [
            "(1.6137980265800934e-16+1.7815299392024104e-16j)\n"
          ]
        }
      ]
    },
    {
      "cell_type": "code",
      "source": [
        "print(sp.re(Ohme_hp))"
      ],
      "metadata": {
        "id": "uBXlfU0u460r"
      },
      "execution_count": null,
      "outputs": []
    },
    {
      "cell_type": "code",
      "source": [
        "f_array=np.linspace(15,700,10000)\n",
        "Ohme_f=np.zeros(len(f_array))\n",
        "\n",
        "for n in range(len(f_array)):\n",
        "    Ohme_f[n] = sp.N(sp.re(Ohme_hp).subs(f, f_array[n]))\n",
        "\n",
        "# plt.title('Signal')\n",
        "plt.figure(2, figsize=(12.8,9.6))\n",
        "plt.plot(f_array, Ohme_f, label='Vacuum TaylorF2')\n",
        "plt.legend()\n",
        "# plt.show()"
      ],
      "metadata": {
        "id": "zkSEDDaNwjJ6"
      },
      "execution_count": null,
      "outputs": []
    },
    {
      "cell_type": "code",
      "source": [
        "plt.figure(3, figsize=(12.8,9.6))\n",
        "plt.plot(f_array, abs(Ohme_f), label='Vacuum TaylorF2')\n",
        "plt.legend()\n",
        "# plt.xlim(15,20)\n",
        "plt.yscale('log')\n",
        "plt.xscale('log')"
      ],
      "metadata": {
        "id": "XvS5Szdr6vYM"
      },
      "execution_count": null,
      "outputs": []
    },
    {
      "cell_type": "code",
      "source": [
        ""
      ],
      "metadata": {
        "id": "lC-iL15G7Df-"
      },
      "execution_count": null,
      "outputs": []
    },
    {
      "cell_type": "markdown",
      "source": [
        "## It's Fisher time!"
      ],
      "metadata": {
        "id": "7jcXdEVtS3Cw"
      }
    },
    {
      "cell_type": "code",
      "source": [
        "from scipy.integrate import quad\n",
        "\n",
        "\n",
        "def overlap(Noise, h1, h2, f1, f2):\n",
        "  \n",
        "  return quad()"
      ],
      "metadata": {
        "id": "MfXBx4MaS48X"
      },
      "execution_count": null,
      "outputs": []
    }
  ]
}